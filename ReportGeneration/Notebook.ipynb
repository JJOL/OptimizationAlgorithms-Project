{
 "cells": [
  {
   "cell_type": "code",
   "execution_count": null,
   "id": "5b3b095d",
   "metadata": {},
   "outputs": [],
   "source": [
    "from executors import execute_search\n",
    "from reports import ReportResult, render_report\n",
    "\n",
    "PROBLEM_SIZES = ['small_0.dat', 'med_0.dat', 'large_0.dat']\n",
    "SOLVERS = ['MILP_CPLEX','Random', 'Greedy', 'GRASP']\n",
    "\n",
    "reports = []\n",
    "for instance in zip(PROBLEM_SIZES, SOLVERS):\n",
    "    problem_size, solver = instance\n",
    "    \n",
    "    results, times = execute_search(solver, problem_size)\n",
    "    reports.append(\n",
    "        ReportResult(problem_size, solver, results, times)\n",
    "    )\n",
    "\n",
    "render_report(reports, PROBLEM_SIZES, SOLVERS)\n",
    "\n",
    "\n",
    "\n",
    "\n",
    "\n",
    "\n",
    "\n",
    "\n"
   ]
  },
  {
   "cell_type": "code",
   "execution_count": 7,
   "id": "7db68073",
   "metadata": {},
   "outputs": [
    {
     "name": "stdout",
     "output_type": "stream",
     "text": [
      "Executing search with solver: GRASP and instance size: small_0.dat\n",
      "Executing Heuristic Python Solver\n"
     ]
    },
    {
     "ename": "AMMMException",
     "evalue": "inputDataFile(C:\\Users\\jjoul\\Documents\\UPC\\AMMM\\PythonCode-20250422T083021Z-001\\PythonCode\\Heuristics\\data\\small_0.dat) does not exist",
     "output_type": "error",
     "traceback": [
      "\u001b[31m---------------------------------------------------------------------------\u001b[39m",
      "\u001b[31mAMMMException\u001b[39m                             Traceback (most recent call last)",
      "\u001b[36mCell\u001b[39m\u001b[36m \u001b[39m\u001b[32mIn[7]\u001b[39m\u001b[32m, line 2\u001b[39m\n\u001b[32m      1\u001b[39m \u001b[38;5;28;01mfrom\u001b[39;00m\u001b[38;5;250m \u001b[39m\u001b[34;01mexecutors\u001b[39;00m\u001b[38;5;250m \u001b[39m\u001b[38;5;28;01mimport\u001b[39;00m execute_search\n\u001b[32m----> \u001b[39m\u001b[32m2\u001b[39m \u001b[43mexecute_search\u001b[49m\u001b[43m(\u001b[49m\u001b[33;43m'\u001b[39;49m\u001b[33;43mGRASP\u001b[39;49m\u001b[33;43m'\u001b[39;49m\u001b[43m,\u001b[49m\u001b[43m \u001b[49m\u001b[33;43m'\u001b[39;49m\u001b[33;43msmall_0.dat\u001b[39;49m\u001b[33;43m'\u001b[39;49m\u001b[43m)\u001b[49m\n",
      "\u001b[36mFile \u001b[39m\u001b[32mc:\\Users\\jjoul\\Documents\\UPC\\AMMM\\PythonCode-20250422T083021Z-001\\PythonCode\\ReportGeneration\\executors.py:92\u001b[39m, in \u001b[36mexecute_search\u001b[39m\u001b[34m(solver, instance_size)\u001b[39m\n\u001b[32m     90\u001b[39m \u001b[38;5;28;01mif\u001b[39;00m solver \u001b[38;5;129;01min\u001b[39;00m [\u001b[33m'\u001b[39m\u001b[33mRandom\u001b[39m\u001b[33m'\u001b[39m, \u001b[33m'\u001b[39m\u001b[33mGreedy\u001b[39m\u001b[33m'\u001b[39m, \u001b[33m'\u001b[39m\u001b[33mGRASP\u001b[39m\u001b[33m'\u001b[39m, \u001b[33m'\u001b[39m\u001b[33mBRKGA\u001b[39m\u001b[33m'\u001b[39m]:\n\u001b[32m     91\u001b[39m     \u001b[38;5;28mprint\u001b[39m(\u001b[33m'\u001b[39m\u001b[33mExecuting Heuristic Python Solver\u001b[39m\u001b[33m'\u001b[39m)\n\u001b[32m---> \u001b[39m\u001b[32m92\u001b[39m     \u001b[38;5;28;01mreturn\u001b[39;00m \u001b[43mexecute_python_solver\u001b[49m\u001b[43m(\u001b[49m\u001b[43msolver\u001b[49m\u001b[43m,\u001b[49m\u001b[43m \u001b[49m\u001b[43minstance_size\u001b[49m\u001b[43m)\u001b[49m\n\u001b[32m     93\u001b[39m \u001b[38;5;28;01melse\u001b[39;00m:\n\u001b[32m     94\u001b[39m     \u001b[38;5;28mprint\u001b[39m(\u001b[33m'\u001b[39m\u001b[33mExecuting MILP CPLEX Solver\u001b[39m\u001b[33m'\u001b[39m)\n",
      "\u001b[36mFile \u001b[39m\u001b[32mc:\\Users\\jjoul\\Documents\\UPC\\AMMM\\PythonCode-20250422T083021Z-001\\PythonCode\\ReportGeneration\\executors.py:48\u001b[39m, in \u001b[36mexecute_python_solver\u001b[39m\u001b[34m(solver, instance_size)\u001b[39m\n\u001b[32m     45\u001b[39m \u001b[38;5;28;01mfrom\u001b[39;00m\u001b[38;5;250m \u001b[39m\u001b[34;01mMain\u001b[39;00m\u001b[38;5;250m \u001b[39m\u001b[38;5;28;01mimport\u001b[39;00m Main\n\u001b[32m     47\u001b[39m config = DATParser.parse(config_file_path)\n\u001b[32m---> \u001b[39m\u001b[32m48\u001b[39m \u001b[43mValidateConfig\u001b[49m\u001b[43m.\u001b[49m\u001b[43mvalidate\u001b[49m\u001b[43m(\u001b[49m\u001b[43mconfig\u001b[49m\u001b[43m)\u001b[49m\n\u001b[32m     49\u001b[39m inputData = DATParser.parse(config.inputDataFile)\n\u001b[32m     50\u001b[39m ValidateInputData.validate(inputData)\n",
      "\u001b[36mFile \u001b[39m\u001b[32m~\\Documents\\UPC\\AMMM\\PythonCode-20250422T083021Z-001\\PythonCode\\Heuristics\\ValidateConfig.py:38\u001b[39m, in \u001b[36mValidateConfig.validate\u001b[39m\u001b[34m(data)\u001b[39m\n\u001b[32m     36\u001b[39m     \u001b[38;5;28;01mraise\u001b[39;00m AMMMException(\u001b[33m'\u001b[39m\u001b[33mValue for inputDataFile is empty\u001b[39m\u001b[33m'\u001b[39m)\n\u001b[32m     37\u001b[39m \u001b[38;5;28;01mif\u001b[39;00m \u001b[38;5;129;01mnot\u001b[39;00m os.path.exists(inputDataFile):\n\u001b[32m---> \u001b[39m\u001b[32m38\u001b[39m     \u001b[38;5;28;01mraise\u001b[39;00m AMMMException(\u001b[33m'\u001b[39m\u001b[33minputDataFile(\u001b[39m\u001b[38;5;132;01m%s\u001b[39;00m\u001b[33m) does not exist\u001b[39m\u001b[33m'\u001b[39m % inputDataFile)\n\u001b[32m     40\u001b[39m \u001b[38;5;66;03m# Validate solution file\u001b[39;00m\n\u001b[32m     41\u001b[39m solutionFile = data.solutionFile\n",
      "\u001b[31mAMMMException\u001b[39m: inputDataFile(C:\\Users\\jjoul\\Documents\\UPC\\AMMM\\PythonCode-20250422T083021Z-001\\PythonCode\\Heuristics\\data\\small_0.dat) does not exist"
     ]
    }
   ],
   "source": [
    "from executors import execute_search\n",
    "execute_search('GRASP', 'small_0.dat')\n"
   ]
  }
 ],
 "metadata": {
  "kernelspec": {
   "display_name": "venv",
   "language": "python",
   "name": "python3"
  },
  "language_info": {
   "codemirror_mode": {
    "name": "ipython",
    "version": 3
   },
   "file_extension": ".py",
   "mimetype": "text/x-python",
   "name": "python",
   "nbconvert_exporter": "python",
   "pygments_lexer": "ipython3",
   "version": "3.12.7"
  }
 },
 "nbformat": 4,
 "nbformat_minor": 5
}
