{
 "cells": [
  {
   "cell_type": "code",
   "execution_count": null,
   "id": "5b3b095d",
   "metadata": {},
   "outputs": [],
   "source": [
    "from executors import execute_search\n",
    "from reports import ReportResult, render_report\n",
    "\n",
    "PROBLEM_SIZES = ['small_0.dat', 'med_0.dat', 'large_0.dat']\n",
    "SOLVERS = ['MILP_CPLEX','Random', 'Greedy', 'GRASP']\n",
    "\n",
    "reports = []\n",
    "for instance in zip(PROBLEM_SIZES, SOLVERS):\n",
    "    problem_size, solver = instance\n",
    "    \n",
    "    results, times = execute_search(solver, problem_size)\n",
    "    reports.append(\n",
    "        ReportResult(problem_size, solver, results, times)\n",
    "    )\n",
    "\n",
    "render_report(reports, PROBLEM_SIZES, SOLVERS)\n",
    "\n",
    "\n",
    "\n",
    "\n",
    "\n",
    "\n",
    "\n",
    "\n"
   ]
  }
 ],
 "metadata": {
  "kernelspec": {
   "display_name": "venv",
   "language": "python",
   "name": "python3"
  },
  "language_info": {
   "codemirror_mode": {
    "name": "ipython",
    "version": 3
   },
   "file_extension": ".py",
   "mimetype": "text/x-python",
   "name": "python",
   "nbconvert_exporter": "python",
   "pygments_lexer": "ipython3",
   "version": "3.12.7"
  }
 },
 "nbformat": 4,
 "nbformat_minor": 5
}
