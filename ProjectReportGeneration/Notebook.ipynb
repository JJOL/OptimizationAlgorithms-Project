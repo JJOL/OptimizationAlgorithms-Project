{
 "cells": [
  {
   "cell_type": "code",
   "execution_count": 2,
   "id": "5b3b095d",
   "metadata": {},
   "outputs": [
    {
     "name": "stdout",
     "output_type": "stream",
     "text": [
      "Executing search with solver: CPLEX and instance size: small_1.dat\n",
      "Executing MILP CPLEX Solver\n",
      "GOOD exeuction!\n",
      "Executing search with solver: Random and instance size: small_1.dat\n",
      "Executing Heuristic Python Solver\n",
      "Solution (CPUid: [TasksId]): {0: [11, 18, 16], 1: [19, 13, 2], 2: [6, 10, 14], 3: [3, 8, 4, 12], 4: [0, 7, 15], 5: [9, 1, 17, 5]}\n",
      "Done.\n",
      "Executing search with solver: Greedy and instance size: small_1.dat\n",
      "Executing Heuristic Python Solver\n",
      "Solution (CPUid: [TasksId]): {0: [19, 18, 4], 1: [11, 14, 9], 2: [0, 10, 8], 3: [7, 16, 1], 4: [13, 15, 12], 5: [6, 2, 3, 17]}\n",
      "Done.\n",
      "Executing search with solver: GRASP and instance size: small_1.dat\n",
      "Executing Heuristic Python Solver\n",
      "Solution (CPUid: [TasksId]): {0: [3, 9, 4, 5], 1: [11, 13, 14], 2: [19, 7, 18], 3: [0, 10, 15], 4: [6, 16, 17], 5: [2, 8, 1, 12]}\n",
      "Done.\n",
      "Executing search with solver: BRKGA and instance size: small_1.dat\n",
      "Executing Heuristic Python Solver\n",
      "Solution (CPUid: [TasksId]): {0: [4, 12, 17, 8], 1: [16, 19, 6], 2: [14, 9, 5, 1], 3: [15, 11, 13], 4: [18, 2, 3], 5: [10, 7, 0]}\n",
      "Done.\n",
      "Executing search with solver: CPLEX and instance size: med_1.dat\n",
      "Executing MILP CPLEX Solver\n",
      "GOOD exeuction!\n",
      "Executing search with solver: Random and instance size: med_1.dat\n",
      "Executing Heuristic Python Solver\n",
      "Solution (CPUid: [TasksId]): {0: [43, 30, 47, 36, 28, 11], 1: [21, 3, 27, 39, 25], 2: [35, 24, 44, 9, 48], 3: [17, 34, 37, 19, 31, 42], 4: [49, 18, 6, 1], 5: [32, 40, 10, 4, 38], 6: [29, 22, 0, 20, 33, 45], 7: [2, 5, 12, 14], 8: [46, 13], 9: [41, 8, 7, 26, 23, 16, 15]}\n",
      "Done.\n",
      "Executing search with solver: Greedy and instance size: med_1.dat\n",
      "Executing Heuristic Python Solver\n",
      "Solution (CPUid: [TasksId]): {0: [30, 36, 5, 27, 23], 1: [32, 22, 20, 3, 9, 15], 2: [21, 18, 11, 4], 3: [46, 35, 33, 25, 16], 4: [34, 37, 8, 39, 1], 5: [17, 40, 24, 7, 12, 38], 6: [29, 47, 13, 26, 42], 7: [2, 28, 45, 44], 8: [49, 0, 31, 6, 14], 9: [43, 41, 19, 10, 48]}\n",
      "Done.\n",
      "Executing search with solver: GRASP and instance size: med_1.dat\n",
      "Executing Heuristic Python Solver\n",
      "Solution (CPUid: [TasksId]): {0: [34, 40, 31, 8, 10], 1: [20, 26, 9, 48, 38], 2: [46, 0, 5, 12], 3: [32, 41, 18, 45], 4: [17, 22, 37, 24, 42], 5: [21, 7, 3, 39, 25, 23], 6: [30, 35, 28, 19, 6], 7: [43, 33, 11, 14, 15], 8: [49, 47, 36, 13, 4], 9: [29, 2, 27, 44, 1, 16]}\n",
      "Done.\n",
      "Executing search with solver: BRKGA and instance size: med_1.dat\n",
      "Executing Heuristic Python Solver\n",
      "Solution (CPUid: [TasksId]): {0: [39, 37, 3, 34, 6], 1: [24, 26, 21, 43, 35], 2: [25, 14, 1, 42, 45], 3: [40, 12, 31, 4, 38], 4: [46, 27, 10, 22, 7], 5: [30, 20, 29, 28, 18], 6: [49, 19, 8, 16, 2], 7: [15, 13, 9, 23, 44], 8: [0, 36, 17, 11, 48], 9: [47, 5, 32, 41, 33]}\n",
      "Done.\n",
      "Executing search with solver: CPLEX and instance size: big_1.dat\n",
      "Executing MILP CPLEX Solver\n",
      "GOOD exeuction!\n",
      "Executing search with solver: Random and instance size: big_1.dat\n",
      "Executing Heuristic Python Solver\n",
      "Solution (CPUid: [TasksId]): {0: [54, 89], 1: [64, 6, 26, 44, 48], 2: [30, 95, 19, 72, 31], 3: [80, 68, 0, 46, 15, 14], 4: [51, 58, 8, 25, 42, 94, 73, 81], 5: [65, 52, 20, 29, 99, 53, 82], 6: [11, 92, 21], 7: [17, 47, 74, 59, 90, 88], 8: [55, 87, 33, 67], 9: [45, 60, 75, 16], 10: [32, 2], 11: [28, 50, 35, 41], 12: [78, 23, 27, 37, 71, 34, 3, 22, 9], 13: [93, 76, 4, 10, 84, 77, 98, 13, 38], 14: [66, 40, 57], 15: [49], 16: [56, 62, 36, 7, 12, 83, 96, 91, 63], 17: [39, 85, 1, 24, 86], 18: [70, 97, 69, 18, 43], 19: [79, 61, 5]}\n",
      "Done.\n",
      "Executing search with solver: Greedy and instance size: big_1.dat\n",
      "Executing Heuristic Python Solver\n",
      "Solution (CPUid: [TasksId]): {0: [76, 23, 94, 40, 41], 1: [66, 78, 60, 72, 90], 2: [11, 30, 15, 99, 81], 3: [62, 92, 89, 6, 34], 4: [97, 2, 27, 29, 53], 5: [85, 12, 74, 67, 57], 6: [32, 45, 42, 5, 43], 7: [51, 49, 38, 75, 88], 8: [80, 28, 50, 48, 9], 9: [39, 8, 95, 19, 22], 10: [93, 68, 77, 96, 3], 11: [87, 10, 79, 73, 14], 12: [55, 64, 47, 24, 59], 13: [65, 52, 46, 44, 82], 14: [56, 33, 0, 61, 18], 15: [70, 4, 25, 37, 86], 16: [36, 1, 98, 20, 91], 17: [54, 17, 69, 26, 16], 18: [7, 21, 13, 71, 63], 19: [58, 84, 83, 31, 35]}\n",
      "Done.\n",
      "Executing search with solver: GRASP and instance size: big_1.dat\n",
      "Executing Heuristic Python Solver\n",
      "Solution (CPUid: [TasksId]): {0: [76, 52, 46, 48, 63], 1: [66, 78, 60, 72, 90], 2: [11, 30, 50, 44, 41], 3: [55, 92, 89, 24, 59], 4: [97, 2, 27, 29, 53], 5: [85, 12, 15, 99, 88], 6: [32, 45, 42, 5, 43], 7: [51, 49, 38, 31, 35], 8: [80, 23, 74, 67, 9], 9: [39, 8, 95, 19, 22], 10: [93, 68, 77, 96, 3], 11: [58, 10, 79, 73, 14], 12: [62, 64, 0, 61, 18], 13: [65, 28, 94, 40, 81], 14: [56, 33, 47, 6, 34], 15: [70, 4, 25, 37, 86], 16: [36, 1, 98, 20, 91], 17: [54, 17, 69, 26, 82], 18: [7, 21, 13, 71, 16], 19: [87, 84, 83, 75, 57]}\n",
      "Done.\n",
      "Executing search with solver: BRKGA and instance size: big_1.dat\n",
      "Executing Heuristic Python Solver\n",
      "Solution (CPUid: [TasksId]): {0: [76, 23, 94, 40, 41], 1: [66, 78, 60, 72, 90], 2: [11, 30, 15, 99, 81], 3: [62, 92, 89, 6, 34], 4: [97, 2, 27, 29, 53], 5: [85, 12, 74, 67, 57], 6: [32, 45, 42, 5, 43], 7: [51, 49, 38, 75, 88], 8: [80, 28, 50, 48, 9], 9: [39, 8, 95, 19, 22], 10: [93, 68, 77, 96, 3], 11: [87, 10, 79, 73, 14], 12: [55, 64, 47, 24, 59], 13: [65, 52, 46, 44, 82], 14: [56, 33, 0, 61, 18], 15: [70, 4, 25, 37, 86], 16: [36, 1, 98, 20, 91], 17: [54, 17, 69, 26, 16], 18: [7, 21, 13, 71, 63], 19: [58, 84, 83, 31, 35]}\n",
      "Done.\n",
      "Making report...\n",
      "Problem Instances: ['small_1.dat', 'med_1.dat', 'big_1.dat']\n",
      "Solvers: ['CPLEX', 'Random', 'Greedy', 'GRASP', 'BRKGA']\n",
      "-----CPLEX.small_1.dat-----\n",
      "> Best Score: 0.893665465 in 0.51179769996088 secs\n",
      "-----Random.small_1.dat-----\n",
      "> Best Score: 0.98378945 in 0.0012955000856891274 secs\n",
      "-----Greedy.small_1.dat-----\n",
      "> Best Score: inf in 0.0013534000609070063 secs\n",
      "-----GRASP.small_1.dat-----\n",
      "> Best Score: 0.90496352 in 10.005098600056954 secs\n",
      "-----BRKGA.small_1.dat-----\n",
      "> Best Score: 0.89283363 in 10.002134199952707 secs\n",
      "-----CPLEX.med_1.dat-----\n",
      "> Best Score: 0.719910908 in 0.4561592999380082 secs\n",
      "-----Random.med_1.dat-----\n",
      "> Best Score: 0.96368719 in 0.004182900069281459 secs\n",
      "-----Greedy.med_1.dat-----\n",
      "> Best Score: 0.78006692 in 0.0031831999076530337 secs\n",
      "-----GRASP.med_1.dat-----\n",
      "> Best Score: 0.7611902 in 10.001042400021106 secs\n",
      "-----BRKGA.med_1.dat-----\n",
      "> Best Score: 0.71819521 in 10.097706200089306 secs\n",
      "-----CPLEX.big_1.dat-----\n",
      "> Best Score: 0.358844905 in 50.62881050002761 secs\n",
      "-----Random.big_1.dat-----\n",
      "> Best Score: 0.80620875 in 0.019783299998380244 secs\n",
      "-----Greedy.big_1.dat-----\n",
      "> Best Score: 0.35923758 in 0.019424700061790645 secs\n",
      "-----GRASP.big_1.dat-----\n",
      "> Best Score: 0.35922855 in 10.026246699970216 secs\n",
      "-----BRKGA.big_1.dat-----\n",
      "> Best Score: 0.35923758 in 10.47817350004334 secs\n"
     ]
    }
   ],
   "source": [
    "from executors import execute_search\n",
    "from reports import ReportResult, render_report\n",
    "import itertools\n",
    "\n",
    "PROBLEM_SIZES = ['small_1.dat', 'med_1.dat', 'big_1.dat']\n",
    "SOLVERS = ['CPLEX','Random', 'Greedy', 'GRASP', 'BRKGA']\n",
    "\n",
    "reports = []\n",
    "for instance in itertools.product(PROBLEM_SIZES,SOLVERS):\n",
    "    problem_size, solver = instance\n",
    "    \n",
    "    results, times = execute_search(solver, problem_size)\n",
    "    reports.append(\n",
    "        ReportResult(problem_size, solver, results, times)\n",
    "    )\n",
    "\n",
    "render_report(reports, PROBLEM_SIZES, SOLVERS)"
   ]
  },
  {
   "cell_type": "code",
   "execution_count": 6,
   "id": "6a986d3f",
   "metadata": {},
   "outputs": [
    {
     "data": {
      "text/plain": [
       "[(1, 'Juan'),\n",
       " (1, 'Pedro'),\n",
       " (2, 'Juan'),\n",
       " (2, 'Pedro'),\n",
       " (3, 'Juan'),\n",
       " (3, 'Pedro')]"
      ]
     },
     "execution_count": 6,
     "metadata": {},
     "output_type": "execute_result"
    }
   ],
   "source": [
    "import itertools\n",
    "a = [1, 2, 3]\n",
    "b = ['Juan', 'Pedro']\n",
    "\n",
    "list(itertools.product(a, b))"
   ]
  },
  {
   "cell_type": "code",
   "execution_count": 2,
   "id": "7db68073",
   "metadata": {},
   "outputs": [
    {
     "name": "stdout",
     "output_type": "stream",
     "text": [
      "Executing search with solver: BRKGA and instance size: big_0.dat\n",
      "Executing Heuristic Python Solver\n"
     ]
    },
    {
     "ename": "FileNotFoundError",
     "evalue": "[Errno 2] No such file or directory: 'C:\\\\Users\\\\jjoul\\\\Documents\\\\UPC\\\\AMMM\\\\PythonCode-20250422T083021Z-001\\\\PythonCode\\\\Heuristics\\\\config\\\\config.dat'",
     "output_type": "error",
     "traceback": [
      "\u001b[31m---------------------------------------------------------------------------\u001b[39m",
      "\u001b[31mFileNotFoundError\u001b[39m                         Traceback (most recent call last)",
      "\u001b[36mCell\u001b[39m\u001b[36m \u001b[39m\u001b[32mIn[2]\u001b[39m\u001b[32m, line 2\u001b[39m\n\u001b[32m      1\u001b[39m \u001b[38;5;28;01mfrom\u001b[39;00m\u001b[38;5;250m \u001b[39m\u001b[34;01mexecutors\u001b[39;00m\u001b[38;5;250m \u001b[39m\u001b[38;5;28;01mimport\u001b[39;00m execute_search\n\u001b[32m----> \u001b[39m\u001b[32m2\u001b[39m \u001b[43mexecute_search\u001b[49m\u001b[43m(\u001b[49m\u001b[33;43m'\u001b[39;49m\u001b[33;43mBRKGA\u001b[39;49m\u001b[33;43m'\u001b[39;49m\u001b[43m,\u001b[49m\u001b[43m \u001b[49m\u001b[33;43m'\u001b[39;49m\u001b[33;43mbig_0.dat\u001b[39;49m\u001b[33;43m'\u001b[39;49m\u001b[43m)\u001b[49m\n",
      "\u001b[36mFile \u001b[39m\u001b[32mc:\\Users\\jjoul\\Documents\\UPC\\AMMM\\PythonCode\\PythonCode\\ReportGeneration\\executors.py:92\u001b[39m, in \u001b[36mexecute_search\u001b[39m\u001b[34m(solver, instance_size)\u001b[39m\n\u001b[32m     90\u001b[39m \u001b[38;5;28;01mif\u001b[39;00m solver \u001b[38;5;129;01min\u001b[39;00m [\u001b[33m'\u001b[39m\u001b[33mRandom\u001b[39m\u001b[33m'\u001b[39m, \u001b[33m'\u001b[39m\u001b[33mGreedy\u001b[39m\u001b[33m'\u001b[39m, \u001b[33m'\u001b[39m\u001b[33mGRASP\u001b[39m\u001b[33m'\u001b[39m, \u001b[33m'\u001b[39m\u001b[33mBRKGA\u001b[39m\u001b[33m'\u001b[39m]:\n\u001b[32m     91\u001b[39m     \u001b[38;5;28mprint\u001b[39m(\u001b[33m'\u001b[39m\u001b[33mExecuting Heuristic Python Solver\u001b[39m\u001b[33m'\u001b[39m)\n\u001b[32m---> \u001b[39m\u001b[32m92\u001b[39m     \u001b[38;5;28;01mreturn\u001b[39;00m \u001b[43mexecute_python_solver\u001b[49m\u001b[43m(\u001b[49m\u001b[43msolver\u001b[49m\u001b[43m,\u001b[49m\u001b[43m \u001b[49m\u001b[43minstance_size\u001b[49m\u001b[43m)\u001b[49m\n\u001b[32m     93\u001b[39m \u001b[38;5;28;01melse\u001b[39;00m:\n\u001b[32m     94\u001b[39m     \u001b[38;5;28mprint\u001b[39m(\u001b[33m'\u001b[39m\u001b[33mExecuting MILP CPLEX Solver\u001b[39m\u001b[33m'\u001b[39m)\n",
      "\u001b[36mFile \u001b[39m\u001b[32mc:\\Users\\jjoul\\Documents\\UPC\\AMMM\\PythonCode\\PythonCode\\ReportGeneration\\executors.py:36\u001b[39m, in \u001b[36mexecute_python_solver\u001b[39m\u001b[34m(solver, instance_size)\u001b[39m\n\u001b[32m     33\u001b[39m \u001b[38;5;28;01mdef\u001b[39;00m\u001b[38;5;250m \u001b[39m\u001b[34mexecute_python_solver\u001b[39m(solver: \u001b[38;5;28mstr\u001b[39m, instance_size: \u001b[38;5;28mstr\u001b[39m) -> \u001b[38;5;28mtuple\u001b[39m[ExecResults, ExecTimes]:\n\u001b[32m     34\u001b[39m     \u001b[38;5;66;03m# Assign Input File and Solver\u001b[39;00m\n\u001b[32m     35\u001b[39m     config_file_path = os.path.join(HEURISTICS_BASE, \u001b[33mr\u001b[39m\u001b[33m'\u001b[39m\u001b[33mconfig\u001b[39m\u001b[33m\\\u001b[39m\u001b[33mconfig.dat\u001b[39m\u001b[33m'\u001b[39m)\n\u001b[32m---> \u001b[39m\u001b[32m36\u001b[39m     \u001b[43mdat_file_assign\u001b[49m\u001b[43m(\u001b[49m\u001b[43mconfig_file_path\u001b[49m\u001b[43m,\u001b[49m\u001b[43m \u001b[49m\u001b[33;43m'\u001b[39;49m\u001b[33;43msolver\u001b[39;49m\u001b[33;43m'\u001b[39;49m\u001b[43m,\u001b[49m\u001b[43m \u001b[49m\u001b[43msolver\u001b[49m\u001b[43m)\u001b[49m\n\u001b[32m     37\u001b[39m     data_file = instance_size\n\u001b[32m     38\u001b[39m     dat_file_assign(config_file_path, \u001b[33m'\u001b[39m\u001b[33minputDataFile\u001b[39m\u001b[33m'\u001b[39m, os.path.join(HEURISTICS_BASE, \u001b[33m'\u001b[39m\u001b[33m..\u001b[39m\u001b[33m'\u001b[39m, \u001b[33m'\u001b[39m\u001b[33mInstanceGeneratorP2\u001b[39m\u001b[33m'\u001b[39m, \u001b[33m'\u001b[39m\u001b[33moutput\u001b[39m\u001b[33m'\u001b[39m, data_file))\n",
      "\u001b[36mFile \u001b[39m\u001b[32mc:\\Users\\jjoul\\Documents\\UPC\\AMMM\\PythonCode\\PythonCode\\ReportGeneration\\executors.py:16\u001b[39m, in \u001b[36mdat_file_assign\u001b[39m\u001b[34m(file_path, variable, value)\u001b[39m\n\u001b[32m     15\u001b[39m \u001b[38;5;28;01mdef\u001b[39;00m\u001b[38;5;250m \u001b[39m\u001b[34mdat_file_assign\u001b[39m(file_path: \u001b[38;5;28mstr\u001b[39m, variable:\u001b[38;5;28mstr\u001b[39m , value: \u001b[38;5;28mstr\u001b[39m):\n\u001b[32m---> \u001b[39m\u001b[32m16\u001b[39m     \u001b[38;5;28;01mwith\u001b[39;00m \u001b[38;5;28;43mopen\u001b[39;49m\u001b[43m(\u001b[49m\u001b[43mfile_path\u001b[49m\u001b[43m,\u001b[49m\u001b[43m \u001b[49m\u001b[33;43m'\u001b[39;49m\u001b[33;43mr\u001b[39;49m\u001b[33;43m'\u001b[39;49m\u001b[43m)\u001b[49m \u001b[38;5;28;01mas\u001b[39;00m file:\n\u001b[32m     17\u001b[39m         file_lines = file.readlines()\n\u001b[32m     19\u001b[39m     var_line = \u001b[38;5;28mnext\u001b[39m(\u001b[38;5;28miter\u001b[39m([(idx,line) \u001b[38;5;28;01mfor\u001b[39;00m idx, line \u001b[38;5;129;01min\u001b[39;00m \u001b[38;5;28menumerate\u001b[39m(file_lines) \u001b[38;5;28;01mif\u001b[39;00m variable \u001b[38;5;129;01min\u001b[39;00m line]), \u001b[38;5;28;01mNone\u001b[39;00m)\n",
      "\u001b[31mFileNotFoundError\u001b[39m: [Errno 2] No such file or directory: 'C:\\\\Users\\\\jjoul\\\\Documents\\\\UPC\\\\AMMM\\\\PythonCode-20250422T083021Z-001\\\\PythonCode\\\\Heuristics\\\\config\\\\config.dat'"
     ]
    }
   ],
   "source": [
    "from executors import execute_search\n",
    "execute_search('BRKGA', 'big_0.dat')\n"
   ]
  },
  {
   "cell_type": "code",
   "execution_count": 21,
   "id": "e0a90b88",
   "metadata": {},
   "outputs": [
    {
     "data": {
      "image/png": "[encoded data removed]",
      "text/plain": [
       "<Figure size 640x480 with 1 Axes>"
      ]
     },
     "metadata": {},
     "output_type": "display_data"
    }
   ],
   "source": [
    "import matplotlib.pyplot as plt\n",
    "import networkx as nx\n",
    "\n",
    "g = nx.DiGraph()\n",
    "\n",
    "nodes = [0,1,2,3,4,5]\n",
    "edges = [[4,5,1], [1,0,1], [0,3,1], [3,2,1], [5,1,1], [5,0,1], [5,3,1], [5,2,1]]\n",
    "\n",
    "g.add_weighted_edges_from(edges)\n",
    "g.out_degree(2, weight='weight')\n",
    "\n",
    "nx.draw_networkx(g)\n",
    "plt.show()"
   ]
  },
  {
   "cell_type": "code",
   "execution_count": null,
   "id": "d2fb563e",
   "metadata": {},
   "outputs": [
    {
     "data": {
      "text/plain": [
       "[4]"
      ]
     },
     "execution_count": 22,
     "metadata": {},
     "output_type": "execute_result"
    }
   ],
   "source": [
    "S = []\n",
    "L = []\n",
    "for n in nodes:\n",
    "    incoming = 0\n",
    "    for e in edges:\n",
    "        if e[1] == n:\n",
    "            incoming += 1\n",
    "    if incoming == 0:\n",
    "        S.append(n)\n",
    "\n",
    "while len(S) > 0:\n",
    "    n = S.pop(0)\n",
    "    L.append(n)\n",
    "    for i in range(len(edges)):\n",
    "        e = edges[i]\n",
    "        if e[0] != n: continue\n",
    "        m = e[1]\n",
    "        # delete e\n",
    "        "
   ]
  }
 ],
 "metadata": {
  "kernelspec": {
   "display_name": "venv",
   "language": "python",
   "name": "python3"
  },
  "language_info": {
   "codemirror_mode": {
    "name": "ipython",
    "version": 3
   },
   "file_extension": ".py",
   "mimetype": "text/x-python",
   "name": "python",
   "nbconvert_exporter": "python",
   "pygments_lexer": "ipython3",
   "version": "3.12.7"
  }
 },
 "nbformat": 4,
 "nbformat_minor": 5
}
